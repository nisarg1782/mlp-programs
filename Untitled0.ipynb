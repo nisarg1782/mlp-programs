{
  "nbformat": 4,
  "nbformat_minor": 0,
  "metadata": {
    "colab": {
      "provenance": []
    },
    "kernelspec": {
      "name": "python3",
      "display_name": "Python 3"
    },
    "language_info": {
      "name": "python"
    }
  },
  "cells": [
    {
      "cell_type": "code",
      "execution_count": null,
      "metadata": {
        "colab": {
          "base_uri": "https://localhost:8080/"
        },
        "id": "En12_Q7GC2mh",
        "outputId": "345b0877-f49b-4bd1-c3a8-6016ba86e28b"
      },
      "outputs": [
        {
          "output_type": "execute_result",
          "data": {
            "text/plain": [
              "array([1, 2, 3])"
            ]
          },
          "metadata": {},
          "execution_count": 2
        }
      ],
      "source": [
        "import numpy as np\n",
        "a=np.array([1,2,3],)\n",
        "a"
      ]
    },
    {
      "cell_type": "code",
      "source": [
        "a.ndim\n",
        "a.dtype\n"
      ],
      "metadata": {
        "colab": {
          "base_uri": "https://localhost:8080/"
        },
        "id": "kMGgwWlZDTwe",
        "outputId": "9f513656-7c11-4b37-fe49-cebaa40bbc74"
      },
      "execution_count": null,
      "outputs": [
        {
          "output_type": "execute_result",
          "data": {
            "text/plain": [
              "dtype('int64')"
            ]
          },
          "metadata": {},
          "execution_count": 4
        }
      ]
    },
    {
      "cell_type": "code",
      "source": [
        "a.ndim"
      ],
      "metadata": {
        "colab": {
          "base_uri": "https://localhost:8080/"
        },
        "id": "BRbcwGykDXJw",
        "outputId": "43b1e407-3422-496a-e82c-941514a521bb"
      },
      "execution_count": null,
      "outputs": [
        {
          "output_type": "execute_result",
          "data": {
            "text/plain": [
              "1"
            ]
          },
          "metadata": {},
          "execution_count": 5
        }
      ]
    },
    {
      "cell_type": "code",
      "source": [
        "a.size"
      ],
      "metadata": {
        "colab": {
          "base_uri": "https://localhost:8080/"
        },
        "id": "tv9dY7w9Dei1",
        "outputId": "ae1e5f63-d787-4080-d877-9855154d40e0"
      },
      "execution_count": null,
      "outputs": [
        {
          "output_type": "execute_result",
          "data": {
            "text/plain": [
              "3"
            ]
          },
          "metadata": {},
          "execution_count": 6
        }
      ]
    },
    {
      "cell_type": "code",
      "source": [
        "a.itemsize"
      ],
      "metadata": {
        "colab": {
          "base_uri": "https://localhost:8080/"
        },
        "id": "DiqStFryDhbd",
        "outputId": "f3305d0f-3541-49d6-cf54-a66334b6ce3d"
      },
      "execution_count": null,
      "outputs": [
        {
          "output_type": "execute_result",
          "data": {
            "text/plain": [
              "8"
            ]
          },
          "metadata": {},
          "execution_count": 8
        }
      ]
    },
    {
      "cell_type": "code",
      "source": [
        "a.shape"
      ],
      "metadata": {
        "colab": {
          "base_uri": "https://localhost:8080/"
        },
        "id": "5TOI83QqDwwS",
        "outputId": "68cb8463-c0f9-43bf-b0d1-e20ad0cb3c03"
      },
      "execution_count": null,
      "outputs": [
        {
          "output_type": "execute_result",
          "data": {
            "text/plain": [
              "(3,)"
            ]
          },
          "metadata": {},
          "execution_count": 9
        }
      ]
    },
    {
      "cell_type": "code",
      "source": [
        "print(type(a))"
      ],
      "metadata": {
        "colab": {
          "base_uri": "https://localhost:8080/"
        },
        "id": "rNf04c5LDyQ4",
        "outputId": "3f645f3b-5f5d-4743-f8a8-28914e066c90"
      },
      "execution_count": null,
      "outputs": [
        {
          "output_type": "stream",
          "name": "stdout",
          "text": [
            "<class 'numpy.ndarray'>\n"
          ]
        }
      ]
    },
    {
      "cell_type": "code",
      "source": [
        "b=np.array(['1',2])\n",
        "b"
      ],
      "metadata": {
        "colab": {
          "base_uri": "https://localhost:8080/"
        },
        "id": "y2lGamS3EEzl",
        "outputId": "95d6c662-cb30-4630-e820-3d8a28c60ea9"
      },
      "execution_count": null,
      "outputs": [
        {
          "output_type": "execute_result",
          "data": {
            "text/plain": [
              "array(['1', '2'], dtype='<U21')"
            ]
          },
          "metadata": {},
          "execution_count": 11
        }
      ]
    },
    {
      "cell_type": "code",
      "source": [
        "b.itemsize\n"
      ],
      "metadata": {
        "colab": {
          "base_uri": "https://localhost:8080/"
        },
        "id": "oc1NKLGFEVy9",
        "outputId": "02495c11-c277-4bb2-a46f-aea35487523d"
      },
      "execution_count": null,
      "outputs": [
        {
          "output_type": "execute_result",
          "data": {
            "text/plain": [
              "84"
            ]
          },
          "metadata": {},
          "execution_count": 13
        }
      ]
    },
    {
      "cell_type": "code",
      "source": [
        "type(b[1])"
      ],
      "metadata": {
        "colab": {
          "base_uri": "https://localhost:8080/"
        },
        "id": "t3CZB_UHEYhc",
        "outputId": "71b61df7-e9fe-4a27-d42b-3c2917a98027"
      },
      "execution_count": null,
      "outputs": [
        {
          "output_type": "execute_result",
          "data": {
            "text/plain": [
              "numpy.str_"
            ]
          },
          "metadata": {},
          "execution_count": 14
        }
      ]
    },
    {
      "cell_type": "code",
      "source": [
        "b.size"
      ],
      "metadata": {
        "colab": {
          "base_uri": "https://localhost:8080/"
        },
        "id": "1lV-PSPAEcur",
        "outputId": "c56fee72-f45d-4aa9-87cc-940affcf09e5"
      },
      "execution_count": null,
      "outputs": [
        {
          "output_type": "execute_result",
          "data": {
            "text/plain": [
              "2"
            ]
          },
          "metadata": {},
          "execution_count": 15
        }
      ]
    },
    {
      "cell_type": "code",
      "source": [
        "mat1=np.ones((3,3))\n",
        "mat1"
      ],
      "metadata": {
        "id": "9FCyaQkAEfc0",
        "colab": {
          "base_uri": "https://localhost:8080/"
        },
        "outputId": "c37d0c65-71a3-4029-adcd-a6065e936775"
      },
      "execution_count": null,
      "outputs": [
        {
          "output_type": "execute_result",
          "data": {
            "text/plain": [
              "array([[1., 1., 1.],\n",
              "       [1., 1., 1.],\n",
              "       [1., 1., 1.]])"
            ]
          },
          "metadata": {},
          "execution_count": 3
        }
      ]
    },
    {
      "cell_type": "code",
      "source": [
        "mat1[0][0]=9\n",
        "mat1"
      ],
      "metadata": {
        "colab": {
          "base_uri": "https://localhost:8080/"
        },
        "id": "y77yCmNuubyl",
        "outputId": "ce08601e-110c-4e13-b0bf-7a05940dbea5"
      },
      "execution_count": null,
      "outputs": [
        {
          "output_type": "execute_result",
          "data": {
            "text/plain": [
              "array([[9., 1., 1.],\n",
              "       [1., 1., 1.],\n",
              "       [1., 1., 1.]])"
            ]
          },
          "metadata": {},
          "execution_count": 6
        }
      ]
    },
    {
      "cell_type": "markdown",
      "source": [],
      "metadata": {
        "id": "_mUvIN6SkFp_"
      }
    },
    {
      "cell_type": "code",
      "source": [
        "mat2=np.arange(5,14).reshape(3,3)\n",
        "mat2"
      ],
      "metadata": {
        "colab": {
          "base_uri": "https://localhost:8080/"
        },
        "id": "p7-apA1dwtIc",
        "outputId": "8859d513-aa3e-4f9f-c125-4779b32d2d1a"
      },
      "execution_count": null,
      "outputs": [
        {
          "output_type": "execute_result",
          "data": {
            "text/plain": [
              "array([[ 5,  6,  7],\n",
              "       [ 8,  9, 10],\n",
              "       [11, 12, 13]])"
            ]
          },
          "metadata": {},
          "execution_count": 8
        }
      ]
    },
    {
      "cell_type": "code",
      "source": [
        "mat3=np.arange(3,30,3).reshape(3,3)\n",
        "mat3[1][2]"
      ],
      "metadata": {
        "colab": {
          "base_uri": "https://localhost:8080/"
        },
        "id": "tVvpthwKw6-D",
        "outputId": "d3260be8-35fc-474b-8489-b65440fd35c8"
      },
      "execution_count": null,
      "outputs": [
        {
          "output_type": "execute_result",
          "data": {
            "text/plain": [
              "18"
            ]
          },
          "metadata": {},
          "execution_count": 21
        }
      ]
    },
    {
      "cell_type": "code",
      "source": [
        "mat4=np.arange(5,130,5).reshape(5,5)\n",
        "mat4"
      ],
      "metadata": {
        "colab": {
          "base_uri": "https://localhost:8080/"
        },
        "id": "8jLIEbA5yGBY",
        "outputId": "8a00ac08-14ce-44aa-8c9f-64ef0d17e7aa"
      },
      "execution_count": null,
      "outputs": [
        {
          "output_type": "execute_result",
          "data": {
            "text/plain": [
              "array([[  5,  10,  15,  20,  25],\n",
              "       [ 30,  35,  40,  45,  50],\n",
              "       [ 55,  60,  65,  70,  75],\n",
              "       [ 80,  85,  90,  95, 100],\n",
              "       [105, 110, 115, 120, 125]])"
            ]
          },
          "metadata": {},
          "execution_count": 10
        }
      ]
    },
    {
      "cell_type": "code",
      "source": [
        "mat5=np.arange(2,101,2)\n",
        "mat5"
      ],
      "metadata": {
        "colab": {
          "base_uri": "https://localhost:8080/"
        },
        "id": "eBrByYL-zOuA",
        "outputId": "6a9c6a9c-03fb-4fbb-bee2-543630fa4e45"
      },
      "execution_count": null,
      "outputs": [
        {
          "output_type": "execute_result",
          "data": {
            "text/plain": [
              "array([  2,   4,   6,   8,  10,  12,  14,  16,  18,  20,  22,  24,  26,\n",
              "        28,  30,  32,  34,  36,  38,  40,  42,  44,  46,  48,  50,  52,\n",
              "        54,  56,  58,  60,  62,  64,  66,  68,  70,  72,  74,  76,  78,\n",
              "        80,  82,  84,  86,  88,  90,  92,  94,  96,  98, 100])"
            ]
          },
          "metadata": {},
          "execution_count": 19
        }
      ]
    },
    {
      "cell_type": "code",
      "source": [
        "mat6=np.arange(1,101,2)\n",
        "mat6\n",
        "matodd=np.arange(mat6[26],mat6[35])\n",
        "matodd"
      ],
      "metadata": {
        "colab": {
          "base_uri": "https://localhost:8080/"
        },
        "id": "CuS1zq5z0GtZ",
        "outputId": "36df9205-d264-4d1f-c47b-b46ff3f8e29e"
      },
      "execution_count": null,
      "outputs": [
        {
          "output_type": "execute_result",
          "data": {
            "text/plain": [
              "array([53, 54, 55, 56, 57, 58, 59, 60, 61, 62, 63, 64, 65, 66, 67, 68, 69,\n",
              "       70])"
            ]
          },
          "metadata": {},
          "execution_count": 25
        }
      ]
    },
    {
      "cell_type": "code",
      "source": [
        "mat7=np.arange(7,106,7)\n",
        "mat7"
      ],
      "metadata": {
        "colab": {
          "base_uri": "https://localhost:8080/"
        },
        "id": "cJNMQ8mk0VsU",
        "outputId": "1e5dbebd-5215-4a3d-be6e-a03a4fe696d0"
      },
      "execution_count": null,
      "outputs": [
        {
          "output_type": "execute_result",
          "data": {
            "text/plain": [
              "array([  7,  14,  21,  28,  35,  42,  49,  56,  63,  70,  77,  84,  91,\n",
              "        98, 105])"
            ]
          },
          "metadata": {},
          "execution_count": 16
        }
      ]
    },
    {
      "cell_type": "code",
      "source": [
        " mat8=np.linspace(1,100,50)\n",
        " mat8"
      ],
      "metadata": {
        "colab": {
          "base_uri": "https://localhost:8080/"
        },
        "id": "1U2x7pSI2OHN",
        "outputId": "4f89668a-1a03-4936-b3e3-0c311d0e416d"
      },
      "execution_count": null,
      "outputs": [
        {
          "output_type": "execute_result",
          "data": {
            "text/plain": [
              "array([  1.        ,   3.02040816,   5.04081633,   7.06122449,\n",
              "         9.08163265,  11.10204082,  13.12244898,  15.14285714,\n",
              "        17.16326531,  19.18367347,  21.20408163,  23.2244898 ,\n",
              "        25.24489796,  27.26530612,  29.28571429,  31.30612245,\n",
              "        33.32653061,  35.34693878,  37.36734694,  39.3877551 ,\n",
              "        41.40816327,  43.42857143,  45.44897959,  47.46938776,\n",
              "        49.48979592,  51.51020408,  53.53061224,  55.55102041,\n",
              "        57.57142857,  59.59183673,  61.6122449 ,  63.63265306,\n",
              "        65.65306122,  67.67346939,  69.69387755,  71.71428571,\n",
              "        73.73469388,  75.75510204,  77.7755102 ,  79.79591837,\n",
              "        81.81632653,  83.83673469,  85.85714286,  87.87755102,\n",
              "        89.89795918,  91.91836735,  93.93877551,  95.95918367,\n",
              "        97.97959184, 100.        ])"
            ]
          },
          "metadata": {},
          "execution_count": 17
        }
      ]
    },
    {
      "cell_type": "code",
      "source": [],
      "metadata": {
        "id": "kfsSOfqx3k_n"
      },
      "execution_count": null,
      "outputs": []
    }
  ]
}